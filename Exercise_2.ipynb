{
  "nbformat": 4,
  "nbformat_minor": 0,
  "metadata": {
    "colab": {
      "provenance": [],
      "authorship_tag": "ABX9TyOTconp5kOuUvhTM7iU9iiv",
      "include_colab_link": true
    },
    "kernelspec": {
      "name": "python3",
      "display_name": "Python 3"
    },
    "language_info": {
      "name": "python"
    }
  },
  "cells": [
    {
      "cell_type": "markdown",
      "metadata": {
        "id": "view-in-github",
        "colab_type": "text"
      },
      "source": [
        "<a href=\"https://colab.research.google.com/github/Babs-Coding/Refonte/blob/main/Exercise_2.ipynb\" target=\"_parent\"><img src=\"https://colab.research.google.com/assets/colab-badge.svg\" alt=\"Open In Colab\"/></a>"
      ]
    },
    {
      "cell_type": "code",
      "execution_count": null,
      "metadata": {
        "id": "4fXn7lz0MMAc",
        "colab": {
          "base_uri": "https://localhost:8080/"
        },
        "outputId": "1bbe7f34-1b99-46c2-eaa0-b6fb409d3a69"
      },
      "outputs": [
        {
          "output_type": "stream",
          "name": "stdout",
          "text": [
            "Requirement already satisfied: xgboost in /usr/local/lib/python3.11/dist-packages (2.1.4)\n",
            "Requirement already satisfied: numpy in /usr/local/lib/python3.11/dist-packages (from xgboost) (2.0.2)\n",
            "Requirement already satisfied: nvidia-nccl-cu12 in /usr/local/lib/python3.11/dist-packages (from xgboost) (2.21.5)\n",
            "Requirement already satisfied: scipy in /usr/local/lib/python3.11/dist-packages (from xgboost) (1.14.1)\n",
            "<class 'pandas.core.frame.DataFrame'>\n",
            "RangeIndex: 614 entries, 0 to 613\n",
            "Data columns (total 13 columns):\n",
            " #   Column             Non-Null Count  Dtype  \n",
            "---  ------             --------------  -----  \n",
            " 0   Loan_ID            614 non-null    object \n",
            " 1   Gender             601 non-null    object \n",
            " 2   Married            611 non-null    object \n",
            " 3   Dependents         599 non-null    object \n",
            " 4   Education          614 non-null    object \n",
            " 5   Self_Employed      582 non-null    object \n",
            " 6   ApplicantIncome    614 non-null    int64  \n",
            " 7   CoapplicantIncome  614 non-null    float64\n",
            " 8   LoanAmount         592 non-null    float64\n",
            " 9   Loan_Amount_Term   600 non-null    float64\n",
            " 10  Credit_History     564 non-null    float64\n",
            " 11  Property_Area      614 non-null    object \n",
            " 12  Loan_Status        614 non-null    object \n",
            "dtypes: float64(4), int64(1), object(8)\n",
            "memory usage: 62.5+ KB\n",
            "missing values: \n",
            " Loan_ID               0\n",
            "Gender               13\n",
            "Married               3\n",
            "Dependents           15\n",
            "Education             0\n",
            "Self_Employed        32\n",
            "ApplicantIncome       0\n",
            "CoapplicantIncome     0\n",
            "LoanAmount           22\n",
            "Loan_Amount_Term     14\n",
            "Credit_History       50\n",
            "Property_Area         0\n",
            "Loan_Status           0\n",
            "dtype: int64\n",
            "\n",
            "Target Variable: \n",
            " Loan_Status\n",
            "Y    0.687296\n",
            "N    0.312704\n",
            "Name: proportion, dtype: float64\n"
          ]
        },
        {
          "output_type": "stream",
          "name": "stderr",
          "text": [
            "/usr/local/lib/python3.11/dist-packages/xgboost/core.py:158: UserWarning: [15:21:35] WARNING: /workspace/src/learner.cc:740: \n",
            "Parameters: { \"use_label_encoder\" } are not used.\n",
            "\n",
            "  warnings.warn(smsg, UserWarning)\n"
          ]
        },
        {
          "output_type": "stream",
          "name": "stdout",
          "text": [
            "     ApplicantIncome  ...  Actual_Loan_Status\n",
            "350         0.602802  ...                True\n",
            "377        -0.179136  ...                True\n",
            "163        -0.202563  ...                True\n",
            "609        -0.410130  ...                True\n",
            "132        -0.439946  ...                True\n",
            "\n",
            "[5 rows x 630 columns]\n",
            "Accuracy: 0.7479674796747967\n",
            "Precision: 0.7634408602150538\n",
            "Recall: 0.8875\n",
            "F1 Score: 0.8208092485549133\n",
            "ROC AUC: 0.6879360465116279\n"
          ]
        }
      ],
      "source": [
        "!pip install xgboost\n",
        "import pandas as pd\n",
        "import numpy as np\n",
        "from sklearn.model_selection import train_test_split\n",
        "from sklearn.preprocessing import LabelEncoder, StandardScaler\n",
        "#from sklearn.ensemble import GradientBoostingClassifier\n",
        "#from sklearn.metrics import classification_report, confusion_matrix\n",
        "from sklearn.impute import SimpleImputer\n",
        "from xgboost import XGBClassifier\n",
        "from sklearn.metrics import accuracy_score, precision_score, recall_score, f1_score, roc_auc_score\n",
        "\n",
        "df = pd.read_csv('Student_data.csv')\n",
        "\n",
        "df.head()\n",
        "df.info()\n",
        "df.describe()\n",
        "df.isnull().sum()\n",
        "\n",
        "print(\"missing values: \\n\", df.isnull().sum())\n",
        "print(\"\\nTarget Variable: \\n\", df['Loan_Status'].value_counts(normalize=True))\n",
        "\n",
        "num_cols = df.select_dtypes(include=['int64', 'float64']).columns\n",
        "cat_cols = df.select_dtypes(include='object').columns\n",
        "imputer = SimpleImputer(strategy='mean')\n",
        "df[num_cols] = imputer.fit_transform(df[num_cols])\n",
        "\n",
        "df = pd.get_dummies(df, columns=cat_cols, drop_first=True)\n",
        "\n",
        "if 'LoanAmount' in df.columns and 'ApplicantIncome' in df.columns: df['Debt'] = df['LoanAmount'] / (df['ApplicantIncome'] + 1)\n",
        "scaler = StandardScaler()\n",
        "df[num_cols] = scaler.fit_transform(df[num_cols])\n",
        "\n",
        "\n",
        "X = df.drop([col for col in df.columns if 'Loan_Status' in col], axis=1)\n",
        "y = df['Loan_Status_Y']\n",
        "\n",
        "X_train, X_test, y_train, y_test = train_test_split(X, y, test_size=0.2, random_state=42)\n",
        "\n",
        "model = XGBClassifier(use_label_encoder=False, eval_metric='logloss')\n",
        "model.fit(X_train, y_train)\n",
        "\n",
        "y_pred = model.predict(X_test)\n",
        "\n",
        "results_df = X_test.copy()\n",
        "results_df['Predicted_Loan_Status'] = y_pred\n",
        "results_df['Actual_Loan_Status'] = y_test.values\n",
        "print(results_df.head())\n",
        "\n",
        "accuracy = accuracy_score(y_test, y_pred)\n",
        "print(f\"Accuracy: {accuracy}\")\n",
        "\n",
        "precision = precision_score(y_test, y_pred)\n",
        "print(f\"Precision: {precision}\")\n",
        "\n",
        "recall = recall_score(y_test, y_pred)\n",
        "print(f\"Recall: {recall}\")\n",
        "\n",
        "f1 = f1_score(y_test, y_pred)\n",
        "print(f\"F1 Score: {f1}\")\n",
        "\n",
        "roc_auc = roc_auc_score(y_test, y_pred)\n",
        "print(f\"ROC AUC: {roc_auc}\")\n"
      ]
    }
  ]
}